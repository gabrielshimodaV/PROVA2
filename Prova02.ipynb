{
 "cells": [
  {
   "cell_type": "code",
   "execution_count": 1,
   "id": "9d930f53-e5e3-4e6b-8935-cfc8bb57a6ae",
   "metadata": {},
   "outputs": [],
   "source": [
    "def selection_sort(arr):\n",
    "    for i in range(len(arr)):\n",
    "        min_idx = i\n",
    "        for j in range(i + 1, len(arr)):\n",
    "            if arr[j] < arr[min_idx]:\n",
    "                min_idx = j \n",
    "        arr[i], arr[min_idx] = arr[min_idx], arr[i]\n",
    "    return arr\n"
   ]
  },
  {
   "cell_type": "code",
   "execution_count": 23,
   "id": "98c87d29-fdd6-4fcb-b500-f81b6797df19",
   "metadata": {},
   "outputs": [
    {
     "name": "stdout",
     "output_type": "stream",
     "text": [
      "Lista original: [30, 45, 12, 66, 24]\n",
      "Lista ordenada: [12, 24, 30, 45, 66]\n"
     ]
    }
   ],
   "source": [
    "# Lista \n",
    "lista = [30, 45, 12, 66, 24]\n",
    "print(\"Lista original:\", lista)\n",
    "print(\"Lista ordenada:\", selection_sort(lista))\n",
    "\n",
    "def find_max(arr):\n",
    "    max_idx = arr[0]\n",
    "    for idx in arr:\n",
    "        if idx > max_idx:\n",
    "            max_idx = idx\n",
    "    return max_idx\n",
    "\n"
   ]
  },
  {
   "cell_type": "code",
   "execution_count": 24,
   "id": "7bc7457d-aec2-4bb4-b160-c61451122f3d",
   "metadata": {},
   "outputs": [
    {
     "name": "stdout",
     "output_type": "stream",
     "text": [
      "Maior elemento: 66\n"
     ]
    }
   ],
   "source": [
    "print(\"Maior elemento:\", find_max(lista))"
   ]
  },
  {
   "cell_type": "code",
   "execution_count": null,
   "id": "e58f0c16-dab5-4994-9c62-e102294fe69a",
   "metadata": {},
   "outputs": [],
   "source": []
  }
 ],
 "metadata": {
  "kernelspec": {
   "display_name": "Python 3 (ipykernel)",
   "language": "python",
   "name": "python3"
  },
  "language_info": {
   "codemirror_mode": {
    "name": "ipython",
    "version": 3
   },
   "file_extension": ".py",
   "mimetype": "text/x-python",
   "name": "python",
   "nbconvert_exporter": "python",
   "pygments_lexer": "ipython3",
   "version": "3.12.4"
  }
 },
 "nbformat": 4,
 "nbformat_minor": 5
}
